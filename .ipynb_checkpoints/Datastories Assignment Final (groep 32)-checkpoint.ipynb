{
 "cells": [
  {
   "cell_type": "code",
   "execution_count": 1,
   "id": "c58f60b7",
   "metadata": {
    "scrolled": true
   },
   "outputs": [
    {
     "data": {
      "text/html": [
       "\n",
       "            <script>\n",
       "                code_show = false;\n",
       "                function restart_run_all(){\n",
       "                    IPython.notebook.kernel.restart();\n",
       "                    setTimeout(function(){\n",
       "                        IPython.notebook.execute_all_cells();\n",
       "                    }, 2000)\n",
       "                }\n",
       "                function code_toggle() {\n",
       "                    if (code_show) {\n",
       "                        $('div.input').hide(200);\n",
       "                    } else {\n",
       "                        $('div.input').show(200);\n",
       "                    }\n",
       "                    code_show = !code_show\n",
       "                }\n",
       "            </script>\n",
       "            <button onclick=\"code_toggle()\">Verberg of zie de code</button>\n",
       "            <button onclick=\"restart_run_all()\">'Restart and Run all'</button>\n",
       "        "
      ],
      "text/plain": [
       "<IPython.core.display.HTML object>"
      ]
     },
     "metadata": {},
     "output_type": "display_data"
    }
   ],
   "source": [
    "from IPython.display import HTML, Javascript, display\n",
    "\n",
    "def initialize():\n",
    "    display(HTML(\n",
    "        '''\n",
    "            <script>\n",
    "                code_show = false;\n",
    "                function restart_run_all(){\n",
    "                    IPython.notebook.kernel.restart();\n",
    "                    setTimeout(function(){\n",
    "                        IPython.notebook.execute_all_cells();\n",
    "                    }, 2000)\n",
    "                }\n",
    "                function code_toggle() {\n",
    "                    if (code_show) {\n",
    "                        $('div.input').hide(200);\n",
    "                    } else {\n",
    "                        $('div.input').show(200);\n",
    "                    }\n",
    "                    code_show = !code_show\n",
    "                }\n",
    "            </script>\n",
    "            <button onclick=\"code_toggle()\">Verberg of zie de code</button>\n",
    "            <button onclick=\"restart_run_all()\">'Restart and Run all'</button>\n",
    "        '''\n",
    "    ))\n",
    "initialize()"
   ]
  },
  {
   "cell_type": "markdown",
   "id": "d3a965ff",
   "metadata": {},
   "source": [
    "<p>( De code werkt het best als de 'Restart & Run All' knop wordt gebruikt voor het runnen van de code )</p>"
   ]
  },
  {
   "cell_type": "code",
   "execution_count": 2,
   "id": "31806cdd",
   "metadata": {},
   "outputs": [],
   "source": [
    "import plotly.express as px\n",
    "from plotly.subplots import make_subplots\n",
    "import plotly.graph_objects as go\n",
    "import matplotlib.pyplot as plt\n",
    "import pandas as pd\n",
    "# import geopandas as gpd\n",
    "import numpy as np\n",
    "import re"
   ]
  },
  {
   "cell_type": "code",
   "execution_count": 3,
   "id": "a1c57d71",
   "metadata": {},
   "outputs": [],
   "source": [
    "# verberg warnings, niet best-practice, maar in dit geval heeft het geen invloed op de consistency van de figuur.\n",
    "import warnings\n",
    "warnings.filterwarnings('ignore')\n"
   ]
  },
  {
   "cell_type": "code",
   "execution_count": 4,
   "id": "09503123",
   "metadata": {
    "scrolled": true
   },
   "outputs": [
    {
     "ename": "FileNotFoundError",
     "evalue": "[Errno 2] No such file or directory: 'Dataset_groep32.csv'",
     "output_type": "error",
     "traceback": [
      "\u001b[0;31m---------------------------------------------------------------------------\u001b[0m",
      "\u001b[0;31mFileNotFoundError\u001b[0m                         Traceback (most recent call last)",
      "Cell \u001b[0;32mIn[4], line 2\u001b[0m\n\u001b[1;32m      1\u001b[0m \u001b[38;5;66;03m# Importeer\u001b[39;00m\n\u001b[0;32m----> 2\u001b[0m dataset \u001b[38;5;241m=\u001b[39m \u001b[43mpd\u001b[49m\u001b[38;5;241;43m.\u001b[39;49m\u001b[43mread_csv\u001b[49m\u001b[43m(\u001b[49m\u001b[38;5;124;43m'\u001b[39;49m\u001b[38;5;124;43mDataset_groep32.csv\u001b[39;49m\u001b[38;5;124;43m'\u001b[39;49m\u001b[43m)\u001b[49m\n\u001b[1;32m      4\u001b[0m \u001b[38;5;66;03m# Jaartallen als objects ipv int64\u001b[39;00m\n\u001b[1;32m      5\u001b[0m dataset[\u001b[38;5;124m'\u001b[39m\u001b[38;5;124mJaar\u001b[39m\u001b[38;5;124m'\u001b[39m] \u001b[38;5;241m=\u001b[39m dataset[\u001b[38;5;124m'\u001b[39m\u001b[38;5;124mJaar\u001b[39m\u001b[38;5;124m'\u001b[39m]\u001b[38;5;241m.\u001b[39mapply(\u001b[38;5;28mstr\u001b[39m)\n",
      "File \u001b[0;32m/Library/Frameworks/Python.framework/Versions/3.11/lib/python3.11/site-packages/pandas/io/parsers/readers.py:912\u001b[0m, in \u001b[0;36mread_csv\u001b[0;34m(filepath_or_buffer, sep, delimiter, header, names, index_col, usecols, dtype, engine, converters, true_values, false_values, skipinitialspace, skiprows, skipfooter, nrows, na_values, keep_default_na, na_filter, verbose, skip_blank_lines, parse_dates, infer_datetime_format, keep_date_col, date_parser, date_format, dayfirst, cache_dates, iterator, chunksize, compression, thousands, decimal, lineterminator, quotechar, quoting, doublequote, escapechar, comment, encoding, encoding_errors, dialect, on_bad_lines, delim_whitespace, low_memory, memory_map, float_precision, storage_options, dtype_backend)\u001b[0m\n\u001b[1;32m    899\u001b[0m kwds_defaults \u001b[38;5;241m=\u001b[39m _refine_defaults_read(\n\u001b[1;32m    900\u001b[0m     dialect,\n\u001b[1;32m    901\u001b[0m     delimiter,\n\u001b[0;32m   (...)\u001b[0m\n\u001b[1;32m    908\u001b[0m     dtype_backend\u001b[38;5;241m=\u001b[39mdtype_backend,\n\u001b[1;32m    909\u001b[0m )\n\u001b[1;32m    910\u001b[0m kwds\u001b[38;5;241m.\u001b[39mupdate(kwds_defaults)\n\u001b[0;32m--> 912\u001b[0m \u001b[38;5;28;01mreturn\u001b[39;00m \u001b[43m_read\u001b[49m\u001b[43m(\u001b[49m\u001b[43mfilepath_or_buffer\u001b[49m\u001b[43m,\u001b[49m\u001b[43m \u001b[49m\u001b[43mkwds\u001b[49m\u001b[43m)\u001b[49m\n",
      "File \u001b[0;32m/Library/Frameworks/Python.framework/Versions/3.11/lib/python3.11/site-packages/pandas/io/parsers/readers.py:577\u001b[0m, in \u001b[0;36m_read\u001b[0;34m(filepath_or_buffer, kwds)\u001b[0m\n\u001b[1;32m    574\u001b[0m _validate_names(kwds\u001b[38;5;241m.\u001b[39mget(\u001b[38;5;124m\"\u001b[39m\u001b[38;5;124mnames\u001b[39m\u001b[38;5;124m\"\u001b[39m, \u001b[38;5;28;01mNone\u001b[39;00m))\n\u001b[1;32m    576\u001b[0m \u001b[38;5;66;03m# Create the parser.\u001b[39;00m\n\u001b[0;32m--> 577\u001b[0m parser \u001b[38;5;241m=\u001b[39m \u001b[43mTextFileReader\u001b[49m\u001b[43m(\u001b[49m\u001b[43mfilepath_or_buffer\u001b[49m\u001b[43m,\u001b[49m\u001b[43m \u001b[49m\u001b[38;5;241;43m*\u001b[39;49m\u001b[38;5;241;43m*\u001b[39;49m\u001b[43mkwds\u001b[49m\u001b[43m)\u001b[49m\n\u001b[1;32m    579\u001b[0m \u001b[38;5;28;01mif\u001b[39;00m chunksize \u001b[38;5;129;01mor\u001b[39;00m iterator:\n\u001b[1;32m    580\u001b[0m     \u001b[38;5;28;01mreturn\u001b[39;00m parser\n",
      "File \u001b[0;32m/Library/Frameworks/Python.framework/Versions/3.11/lib/python3.11/site-packages/pandas/io/parsers/readers.py:1407\u001b[0m, in \u001b[0;36mTextFileReader.__init__\u001b[0;34m(self, f, engine, **kwds)\u001b[0m\n\u001b[1;32m   1404\u001b[0m     \u001b[38;5;28mself\u001b[39m\u001b[38;5;241m.\u001b[39moptions[\u001b[38;5;124m\"\u001b[39m\u001b[38;5;124mhas_index_names\u001b[39m\u001b[38;5;124m\"\u001b[39m] \u001b[38;5;241m=\u001b[39m kwds[\u001b[38;5;124m\"\u001b[39m\u001b[38;5;124mhas_index_names\u001b[39m\u001b[38;5;124m\"\u001b[39m]\n\u001b[1;32m   1406\u001b[0m \u001b[38;5;28mself\u001b[39m\u001b[38;5;241m.\u001b[39mhandles: IOHandles \u001b[38;5;241m|\u001b[39m \u001b[38;5;28;01mNone\u001b[39;00m \u001b[38;5;241m=\u001b[39m \u001b[38;5;28;01mNone\u001b[39;00m\n\u001b[0;32m-> 1407\u001b[0m \u001b[38;5;28mself\u001b[39m\u001b[38;5;241m.\u001b[39m_engine \u001b[38;5;241m=\u001b[39m \u001b[38;5;28;43mself\u001b[39;49m\u001b[38;5;241;43m.\u001b[39;49m\u001b[43m_make_engine\u001b[49m\u001b[43m(\u001b[49m\u001b[43mf\u001b[49m\u001b[43m,\u001b[49m\u001b[43m \u001b[49m\u001b[38;5;28;43mself\u001b[39;49m\u001b[38;5;241;43m.\u001b[39;49m\u001b[43mengine\u001b[49m\u001b[43m)\u001b[49m\n",
      "File \u001b[0;32m/Library/Frameworks/Python.framework/Versions/3.11/lib/python3.11/site-packages/pandas/io/parsers/readers.py:1661\u001b[0m, in \u001b[0;36mTextFileReader._make_engine\u001b[0;34m(self, f, engine)\u001b[0m\n\u001b[1;32m   1659\u001b[0m     \u001b[38;5;28;01mif\u001b[39;00m \u001b[38;5;124m\"\u001b[39m\u001b[38;5;124mb\u001b[39m\u001b[38;5;124m\"\u001b[39m \u001b[38;5;129;01mnot\u001b[39;00m \u001b[38;5;129;01min\u001b[39;00m mode:\n\u001b[1;32m   1660\u001b[0m         mode \u001b[38;5;241m+\u001b[39m\u001b[38;5;241m=\u001b[39m \u001b[38;5;124m\"\u001b[39m\u001b[38;5;124mb\u001b[39m\u001b[38;5;124m\"\u001b[39m\n\u001b[0;32m-> 1661\u001b[0m \u001b[38;5;28mself\u001b[39m\u001b[38;5;241m.\u001b[39mhandles \u001b[38;5;241m=\u001b[39m \u001b[43mget_handle\u001b[49m\u001b[43m(\u001b[49m\n\u001b[1;32m   1662\u001b[0m \u001b[43m    \u001b[49m\u001b[43mf\u001b[49m\u001b[43m,\u001b[49m\n\u001b[1;32m   1663\u001b[0m \u001b[43m    \u001b[49m\u001b[43mmode\u001b[49m\u001b[43m,\u001b[49m\n\u001b[1;32m   1664\u001b[0m \u001b[43m    \u001b[49m\u001b[43mencoding\u001b[49m\u001b[38;5;241;43m=\u001b[39;49m\u001b[38;5;28;43mself\u001b[39;49m\u001b[38;5;241;43m.\u001b[39;49m\u001b[43moptions\u001b[49m\u001b[38;5;241;43m.\u001b[39;49m\u001b[43mget\u001b[49m\u001b[43m(\u001b[49m\u001b[38;5;124;43m\"\u001b[39;49m\u001b[38;5;124;43mencoding\u001b[39;49m\u001b[38;5;124;43m\"\u001b[39;49m\u001b[43m,\u001b[49m\u001b[43m \u001b[49m\u001b[38;5;28;43;01mNone\u001b[39;49;00m\u001b[43m)\u001b[49m\u001b[43m,\u001b[49m\n\u001b[1;32m   1665\u001b[0m \u001b[43m    \u001b[49m\u001b[43mcompression\u001b[49m\u001b[38;5;241;43m=\u001b[39;49m\u001b[38;5;28;43mself\u001b[39;49m\u001b[38;5;241;43m.\u001b[39;49m\u001b[43moptions\u001b[49m\u001b[38;5;241;43m.\u001b[39;49m\u001b[43mget\u001b[49m\u001b[43m(\u001b[49m\u001b[38;5;124;43m\"\u001b[39;49m\u001b[38;5;124;43mcompression\u001b[39;49m\u001b[38;5;124;43m\"\u001b[39;49m\u001b[43m,\u001b[49m\u001b[43m \u001b[49m\u001b[38;5;28;43;01mNone\u001b[39;49;00m\u001b[43m)\u001b[49m\u001b[43m,\u001b[49m\n\u001b[1;32m   1666\u001b[0m \u001b[43m    \u001b[49m\u001b[43mmemory_map\u001b[49m\u001b[38;5;241;43m=\u001b[39;49m\u001b[38;5;28;43mself\u001b[39;49m\u001b[38;5;241;43m.\u001b[39;49m\u001b[43moptions\u001b[49m\u001b[38;5;241;43m.\u001b[39;49m\u001b[43mget\u001b[49m\u001b[43m(\u001b[49m\u001b[38;5;124;43m\"\u001b[39;49m\u001b[38;5;124;43mmemory_map\u001b[39;49m\u001b[38;5;124;43m\"\u001b[39;49m\u001b[43m,\u001b[49m\u001b[43m \u001b[49m\u001b[38;5;28;43;01mFalse\u001b[39;49;00m\u001b[43m)\u001b[49m\u001b[43m,\u001b[49m\n\u001b[1;32m   1667\u001b[0m \u001b[43m    \u001b[49m\u001b[43mis_text\u001b[49m\u001b[38;5;241;43m=\u001b[39;49m\u001b[43mis_text\u001b[49m\u001b[43m,\u001b[49m\n\u001b[1;32m   1668\u001b[0m \u001b[43m    \u001b[49m\u001b[43merrors\u001b[49m\u001b[38;5;241;43m=\u001b[39;49m\u001b[38;5;28;43mself\u001b[39;49m\u001b[38;5;241;43m.\u001b[39;49m\u001b[43moptions\u001b[49m\u001b[38;5;241;43m.\u001b[39;49m\u001b[43mget\u001b[49m\u001b[43m(\u001b[49m\u001b[38;5;124;43m\"\u001b[39;49m\u001b[38;5;124;43mencoding_errors\u001b[39;49m\u001b[38;5;124;43m\"\u001b[39;49m\u001b[43m,\u001b[49m\u001b[43m \u001b[49m\u001b[38;5;124;43m\"\u001b[39;49m\u001b[38;5;124;43mstrict\u001b[39;49m\u001b[38;5;124;43m\"\u001b[39;49m\u001b[43m)\u001b[49m\u001b[43m,\u001b[49m\n\u001b[1;32m   1669\u001b[0m \u001b[43m    \u001b[49m\u001b[43mstorage_options\u001b[49m\u001b[38;5;241;43m=\u001b[39;49m\u001b[38;5;28;43mself\u001b[39;49m\u001b[38;5;241;43m.\u001b[39;49m\u001b[43moptions\u001b[49m\u001b[38;5;241;43m.\u001b[39;49m\u001b[43mget\u001b[49m\u001b[43m(\u001b[49m\u001b[38;5;124;43m\"\u001b[39;49m\u001b[38;5;124;43mstorage_options\u001b[39;49m\u001b[38;5;124;43m\"\u001b[39;49m\u001b[43m,\u001b[49m\u001b[43m \u001b[49m\u001b[38;5;28;43;01mNone\u001b[39;49;00m\u001b[43m)\u001b[49m\u001b[43m,\u001b[49m\n\u001b[1;32m   1670\u001b[0m \u001b[43m\u001b[49m\u001b[43m)\u001b[49m\n\u001b[1;32m   1671\u001b[0m \u001b[38;5;28;01massert\u001b[39;00m \u001b[38;5;28mself\u001b[39m\u001b[38;5;241m.\u001b[39mhandles \u001b[38;5;129;01mis\u001b[39;00m \u001b[38;5;129;01mnot\u001b[39;00m \u001b[38;5;28;01mNone\u001b[39;00m\n\u001b[1;32m   1672\u001b[0m f \u001b[38;5;241m=\u001b[39m \u001b[38;5;28mself\u001b[39m\u001b[38;5;241m.\u001b[39mhandles\u001b[38;5;241m.\u001b[39mhandle\n",
      "File \u001b[0;32m/Library/Frameworks/Python.framework/Versions/3.11/lib/python3.11/site-packages/pandas/io/common.py:859\u001b[0m, in \u001b[0;36mget_handle\u001b[0;34m(path_or_buf, mode, encoding, compression, memory_map, is_text, errors, storage_options)\u001b[0m\n\u001b[1;32m    854\u001b[0m \u001b[38;5;28;01melif\u001b[39;00m \u001b[38;5;28misinstance\u001b[39m(handle, \u001b[38;5;28mstr\u001b[39m):\n\u001b[1;32m    855\u001b[0m     \u001b[38;5;66;03m# Check whether the filename is to be opened in binary mode.\u001b[39;00m\n\u001b[1;32m    856\u001b[0m     \u001b[38;5;66;03m# Binary mode does not support 'encoding' and 'newline'.\u001b[39;00m\n\u001b[1;32m    857\u001b[0m     \u001b[38;5;28;01mif\u001b[39;00m ioargs\u001b[38;5;241m.\u001b[39mencoding \u001b[38;5;129;01mand\u001b[39;00m \u001b[38;5;124m\"\u001b[39m\u001b[38;5;124mb\u001b[39m\u001b[38;5;124m\"\u001b[39m \u001b[38;5;129;01mnot\u001b[39;00m \u001b[38;5;129;01min\u001b[39;00m ioargs\u001b[38;5;241m.\u001b[39mmode:\n\u001b[1;32m    858\u001b[0m         \u001b[38;5;66;03m# Encoding\u001b[39;00m\n\u001b[0;32m--> 859\u001b[0m         handle \u001b[38;5;241m=\u001b[39m \u001b[38;5;28;43mopen\u001b[39;49m\u001b[43m(\u001b[49m\n\u001b[1;32m    860\u001b[0m \u001b[43m            \u001b[49m\u001b[43mhandle\u001b[49m\u001b[43m,\u001b[49m\n\u001b[1;32m    861\u001b[0m \u001b[43m            \u001b[49m\u001b[43mioargs\u001b[49m\u001b[38;5;241;43m.\u001b[39;49m\u001b[43mmode\u001b[49m\u001b[43m,\u001b[49m\n\u001b[1;32m    862\u001b[0m \u001b[43m            \u001b[49m\u001b[43mencoding\u001b[49m\u001b[38;5;241;43m=\u001b[39;49m\u001b[43mioargs\u001b[49m\u001b[38;5;241;43m.\u001b[39;49m\u001b[43mencoding\u001b[49m\u001b[43m,\u001b[49m\n\u001b[1;32m    863\u001b[0m \u001b[43m            \u001b[49m\u001b[43merrors\u001b[49m\u001b[38;5;241;43m=\u001b[39;49m\u001b[43merrors\u001b[49m\u001b[43m,\u001b[49m\n\u001b[1;32m    864\u001b[0m \u001b[43m            \u001b[49m\u001b[43mnewline\u001b[49m\u001b[38;5;241;43m=\u001b[39;49m\u001b[38;5;124;43m\"\u001b[39;49m\u001b[38;5;124;43m\"\u001b[39;49m\u001b[43m,\u001b[49m\n\u001b[1;32m    865\u001b[0m \u001b[43m        \u001b[49m\u001b[43m)\u001b[49m\n\u001b[1;32m    866\u001b[0m     \u001b[38;5;28;01melse\u001b[39;00m:\n\u001b[1;32m    867\u001b[0m         \u001b[38;5;66;03m# Binary mode\u001b[39;00m\n\u001b[1;32m    868\u001b[0m         handle \u001b[38;5;241m=\u001b[39m \u001b[38;5;28mopen\u001b[39m(handle, ioargs\u001b[38;5;241m.\u001b[39mmode)\n",
      "\u001b[0;31mFileNotFoundError\u001b[0m: [Errno 2] No such file or directory: 'Dataset_groep32.csv'"
     ]
    }
   ],
   "source": [
    "# Importeer\n",
    "dataset = pd.read_csv('Dataset_groep32.csv')\n",
    "\n",
    "# Jaartallen als objects ipv int64\n",
    "dataset['Jaar'] = dataset['Jaar'].apply(str)"
   ]
  },
  {
   "cell_type": "markdown",
   "id": "2c47f332",
   "metadata": {},
   "source": [
    "<h1 style=\"font-family: Calibri\">Wonen in de Randstad: Nog steeds zo populair of wonen mensen liever ergens anders?</h1>\n",
    "\n",
    "<h3 style=\"font-family: Calibri\">Datastory made by: Jesse Brouwer (13534769) en Simon van der Knaap (13415514)</h3>"
   ]
  },
  {
   "cell_type": "markdown",
   "id": "2f6568fa",
   "metadata": {},
   "source": [
    "<p style=\"font-family: calibri; font-size:16pt\"><strong>Inleiding</strong></p>\n",
    "\n",
    "<p style=\"font-family: calibri; font-size:14pt\">\n",
    "De huizenmarkt van Nederland staat steeds verder onder druk: Het is lastig om een betaalbaar huis op een prettige locatie te bemachtigen. Kortom: het is een moeilijke markt waarin de laatste jaren steeds meer wisseling in het aanbod en de prijs van het aanbod zit. Er zijn veel problemen die zorgen voor een verstoorde markt en waardoor het kopen van een huis voor veel mensen lastiger wordt, denk aan vastgoedbeleggers en het stil liggen van nieuwe bouwprojecten door de stikstofcrisis, hierdoor is de vraag naar woningen in Nederland op dit moment hoger dan ooit. Wat terug te zien is in de prijzen.<br> \n",
    "    Een mogelijkheid is verder van je werk wonen, in provincies waar de huizenprijzen iets minder hard zijn gestegen, of genoegen nemen met een wat kleiner huis. In hoeverre dit daadwerkelijk gedaan wordt zal uiteindelijk blijken in deze data story.\n",
    "    <br>\n",
    "    Over de verkoop van woningen is interessante data te vinden, zoals bijvoorbeeld het aantal verkochte huizen per regio, de gemiddelde verkoopprijs en het gemiddelde oppervlak van een verkochte woning. Als regio's zal in deze data story worden gekeken naar de provincies in Nederland, waarbij we het onderscheid maken tussen provincies die bij de Randstad horen: Noord-Holland, Zuid-Holland en Utrecht, en de overige provincies als 'niet-Randstad'.<br>\n",
    "    Bij de gevonden informatie zijn een aantal onderdelen waar meer duidelijkheid over verkregen kan worden. Er zullen vragen aan bod komen zoals 'Worden er tegenwoordig meer huizen gekocht buiten de Randstad dan in de Randstad?' en  'Stijgt de prijs binnen de Randstad nog altijd harder dan buiten dit gebied?'. In deze data story zullen wij deze aspecten visualiseren aan de hand van openbare datasets waarbij informatie per jaar is vastgelegd voor elke provincie. \n",
    "</p>\n",
    "\n",
    "<p style=\"font-family: calibri; font-size:14pt\">\n",
    "De informatie die we gebruiken is aangeleverd bij de opdracht of openbaar te verkrijgen via het CBS <a href=\"https://opendata.cbs.nl/statline/\">(CBS Open data StatLine)</a>. De dataset die bij de opdracht werd aangeleverd gaat over de (ontwikkeling van) prijzen ten opzichte van 2010 en aantal verkochte huizen en hoe deze zich verhouden tot voorgaande jaren.<br>\n",
    "    De eerste dataset van het CBS gaat over de gemiddelde verkoopprijs per regio op jaarbasis, de tweede dataset van het CBS geeft zicht op het gemiddelde leefoppervlak van de verkochte woningen per regio op jaarbasis.\n",
    "</p>"
   ]
  },
  {
   "cell_type": "markdown",
   "id": "7e7e9042",
   "metadata": {},
   "source": [
    "<p style=\"font-family: calibri; font-size:14pt\">\n",
    "Wij zullen voor deze opdracht onder andere kijken naar de ontwikkeling van het aantal verkochte huizen in en buiten de Randstad door de jaren heen. Onder de Randstad verstaan we de drie provincies Noord-Holland, Zuid-Holland en Utrecht, omdat de dataset van de opdracht het niet mogelijk maakte de bij de Randstad horende steden en gemeenten samen te voegen: Enkel een compleet overzicht van de provincies was in de dataset aangeleverd. Deze verdeling van provincies in 'Randstad' en 'niet-Randstad' hebben we ook bij de CBS datasets aangehouden, mede omdat het CBS deze verdeling ook nagenoeg als definitie  van de Randstad hanteert en het op deze manier mogelijk is de verschillende bevindingen met elkaar te vergelijken. <br>\n",
    "We hebben hierbij gekeken naar het aantal verkochte woningen per gebied, de gemiddelde prijs per provincie en gebied, het gemiddelde oppervlak van een verkochte woning per provincie en de gemiddelde prijs(ontwikkeling)/m2 per provincie. Vooral dit laatste geeft een zeer duidelijk inzicht in hoe hard de huizenprijs door heel Nederland stijgt.\n",
    "</p>"
   ]
  },
  {
   "cell_type": "code",
   "execution_count": null,
   "id": "f28befc7",
   "metadata": {
    "scrolled": true
   },
   "outputs": [],
   "source": [
    "# Indelen van provincies in randstad en niet-randstad\n",
    "Provincienamen = ['Groningen', 'Fryslân', 'Drenthe', 'Overijssel', 'Flevoland', 'Gelderland', \n",
    "                  'Utrecht', 'Noord-Holland', 'Zuid-Holland', 'Zeeland', 'Noord-Brabant', 'Limburg']\n",
    "\n",
    "\n",
    "Randstad = ['Noord-Holland', 'Zuid-Holland', 'Utrecht']\n",
    "\n",
    "nietRandstad = ['Groningen', 'Fryslân', 'Drenthe', 'Overijssel', 'Flevoland', 'Gelderland', \n",
    "                 'Zeeland', 'Noord-Brabant', 'Limburg']\n",
    "\n",
    "# Lijst met alle jaren in de aangeleverde dataset\n",
    "alleJaren = [x for x in dataset['Jaar']]\n",
    "alleJaren = list(dict.fromkeys(alleJaren))\n",
    "\n",
    "# Lijst met jaren voor figuur 1\n",
    "jaren = ['2010', '2011', '2012', '2013', '2014', '2015', '2016']\n",
    "\n",
    "# Lijst met jaren voor CBS datasets\n",
    "jaren2 = ['2012','2013','2014','2015','2016','2017','2018','2019','2020','2021']\n",
    "\n",
    "# Nieuwe variable aanmaken voor categoriseren van Randstad en Niet-Randstad\n",
    "dataset['Randstad?'] = 0\n",
    "dataset.loc[dataset['Provincie'].isin(Randstad), ['Randstad?']] = 'Randstad'\n",
    "dataset.loc[dataset['Provincie'].isin(nietRandstad), ['Randstad?']] = 'Niet Randstad'\n",
    "\n",
    "randstad_categorized = dataset.loc[dataset['Jaar'].isin(jaren)]\n"
   ]
  },
  {
   "cell_type": "code",
   "execution_count": null,
   "id": "39f03038",
   "metadata": {
    "scrolled": false
   },
   "outputs": [],
   "source": [
    "# Lijsten koppelen aan juiste waarde van de Category variable\n",
    "randstad = randstad_categorized.loc[randstad_categorized['Randstad?'] == 'Randstad']\n",
    "niet_randstad = randstad_categorized.loc[randstad_categorized['Randstad?'] == 'Niet Randstad']\n",
    "\n",
    "# Category en Year kunnen niet 0 zijn\n",
    "randstad_categorized = randstad_categorized.loc[randstad_categorized['Randstad?'] != 0]\n",
    "\n",
    "# Histogram definiëren met correcte parameters\n",
    "fig = px.histogram(randstad_categorized, x='Randstad?', y='Number of dwellings sold',\n",
    "             color='Jaar', barmode = 'group', histfunc=\"avg\")\n",
    "\n",
    "# Titel en template toevoegen\n",
    "fig.update_layout(title_text='<b>Figuur 1. Gemiddelde aantal woningen verkocht: Randstad/Niet Randstad </b>',\n",
    "                 template='plotly_white')\n",
    "\n",
    "fig.show()"
   ]
  },
  {
   "cell_type": "markdown",
   "id": "48326941",
   "metadata": {},
   "source": [
    "<p style=\"font-family: calibri; font-size:14pt\">\n",
    "In <b>figuur 1</b> zien we de gemiddelde hoeveelheid verkochte woningen per jaar, verdeeld over twee groepen: De Randstad en de rest (niet-Randstad). Er zijn een aantal dingen die hier in het oog springen. Zo is er bij beide groepen sprake van eenzelfde dalende trend in de periode van 2010 tot en met 2013, waarna het tot 2016 weer flink is gaan stijgen. In de periode 2010-2013 ging het met de huizenmarkt in heel Nederland dus minder goed dan in de periode 2013-2016, als logische nasleep van de economische crisis van 2008. Daarnaast, en voor het beantwoorden van onze vragen veel relevanter, is er een duidelijk verschil te zien in het aantal verkochte woningen tussen de Randstad en de rest. De Randstad heeft een veel hoger gemiddelde van verkochte woningen, met door de jaren ongeveer drie keer zoveel woningen die verkocht zijn. Deze figuur laat duidelijk zien dat de populariteit van de Randstad niet onderschat moet worden in de Nederlandse woningmarkt en er nog steeds meer mensen zijn die daar een woning kopen dan elders in Nederland.\n",
    "</p>"
   ]
  },
  {
   "cell_type": "code",
   "execution_count": null,
   "id": "7983a54d",
   "metadata": {},
   "outputs": [],
   "source": [
    "# dataframe waar alleen de provincies in voorkomen\n",
    "CBSgemPrijs = dataset.loc[(dataset['Provincie'].isin(Provincienamen)) & (dataset['Jaar'].isin(alleJaren))]\n"
   ]
  },
  {
   "cell_type": "code",
   "execution_count": null,
   "id": "896dc6cc",
   "metadata": {
    "scrolled": false
   },
   "outputs": [],
   "source": [
    "# Figuur 2a\n",
    "fig2a = px.line(dataset, x='Jaar', y='Gemiddelde Verkoopprijs', color='Provincie', title='<b>Figuur 2a: Gemiddelde prijs van koopwoningen per provincie</b>')\n",
    "fig2a.show()"
   ]
  },
  {
   "cell_type": "markdown",
   "id": "6e990c34",
   "metadata": {},
   "source": [
    "<p style=\"font-family: calibri; font-size:14pt\">\n",
    "    In <b>Figuur 2a</b> hebben we allereerst een overzicht gemaakt van de gemiddelde huizenprijs van alle provincies in Nederland, waarin naar voren komt dat de huizenprijzen in Noord-Holland en Utrecht ver boven de rest uit komen en dat dit verschil in de afgelopen jaren alleen maar is toegenomen. Echter geeft deze mix aan gekleurde lijnen geen overzichtelijk beeld op het verschil tussen de Randstad en de overige provincies, daarvoor hebben we de provincies in de twee delen opgesplitst, zoals te zien in <b>Figuur 2b</b>. Hierbij vallen Noord-Holland, Zuid-Holland en Utrecht wederom onder de Randstad en de overige provincies onder niet-Randstad.\n",
    "</p>"
   ]
  },
  {
   "cell_type": "code",
   "execution_count": null,
   "id": "17a514d6",
   "metadata": {},
   "outputs": [],
   "source": [
    "# Randstad en niet-Randstad als gescheiden dataframes\n",
    "InRandstad = dataset.loc[dataset['Randstad?'] == 'Randstad']\n",
    "BuitenRandstad = dataset.loc[dataset['Randstad?'] == 'Niet Randstad']\n",
    "\n",
    "# gemiddelde prijzen voor Randstad en niet-Randstad, als dicts\n",
    "avgRandstad = []\n",
    "avgBuiten = []\n",
    "for jaar in alleJaren:\n",
    "    avgRandstad.append([jaar, sum(InRandstad.loc[InRandstad['Jaar'] == jaar]['Gemiddelde Verkoopprijs'])/3, 'Randstad'])\n",
    "    avgBuiten.append([jaar, sum(BuitenRandstad.loc[BuitenRandstad['Jaar'] == jaar]['Gemiddelde Verkoopprijs'])/9, 'Niet Randstad'])\n",
    "    \n",
    "# dicts weer als dataframes en samenvoegen\n",
    "Randstad = pd.DataFrame(columns=['Jaar', 'Gemiddelde Verkoopprijs', 'Regio'], data=avgRandstad)\n",
    "nietRandstad = pd.DataFrame(columns=['Jaar', 'Gemiddelde Verkoopprijs', 'Regio'], data=avgBuiten)\n",
    "regios = Randstad.append(nietRandstad, ignore_index = True)\n",
    "\n",
    "#Figuur 2b\n",
    "fig2b = px.line(regios, x='Jaar', y='Gemiddelde Verkoopprijs', color='Regio', title='<b>Figuur 2b: De gemiddelde prijs van koopwoningen binnen de Randstad stijgt harder <br> dan buiten de Randstad</b>')\n",
    "fig2b.show()\n"
   ]
  },
  {
   "cell_type": "markdown",
   "id": "3ef9d93e",
   "metadata": {},
   "source": [
    "<p style=\"font-family: calibri; font-size:14pt\">\n",
    "In <b>figuur 2b</b> is de gemiddelde prijs (in €) die betaald wordt voor een woning in de Randstad en buiten de Randstad (niet-Randstad) te zien. De trend van beide regio's ongeveer dezelfde curve, echter is duidelijk te zien dat de gemiddelde prijs in de Randstad sterker stijgt dan de gemiddelde prijs die elders moet worden betaald. De gemiddelde prijs ligt in de Randstad in deze gehele periode al een stuk hoger. Waar het verschil in 1995 zo'n €40k per woning is, is dit verschil in 2021 uitgelopen tot zo'n €120k.<br>\n",
    "    In combinatie met het feit dat er in de Randstad veel meer woningen worden verkocht, zoals gezien in figuur 1, kan er dus kunnen worden geconcludeerd dat mensen massaal bereid zijn meer te betalen voor een woning binnen de Randstad en dat deze metropoolregio dus nog steeds in trek is.\n",
    "</p>"
   ]
  },
  {
   "cell_type": "code",
   "execution_count": null,
   "id": "f504f5c8",
   "metadata": {},
   "outputs": [],
   "source": [
    "# Interactieve bar chart definiëren met de juiste parameters\n",
    "CBSgemM2 = dataset.loc[dataset['Jaar'].isin(jaren2)]\n",
    "barchart = px.bar(CBSgemM2, x = CBSgemM2['Provincie'], \n",
    "                 y = ['Gemiddelde oppervlakte (m2)'],\n",
    "                 color = 'Provincie',\n",
    "                 title = '<b>Figuur 3: Gemiddelde oppervlakte per woning</b>',\n",
    "                 labels = {\"value\":\"Oppervlakte (m2)\"},\n",
    "                 animation_frame=\"Jaar\", \n",
    "                 animation_group=\"Provincie\",\n",
    "                 hover_name=\"Provincie\")\n",
    "\n",
    "barchart.update_layout(showlegend = False)\n",
    "\n",
    "barchart.show()"
   ]
  },
  {
   "cell_type": "markdown",
   "id": "37a881e9",
   "metadata": {},
   "source": [
    "<p style=\"font-family: calibri; font-size:14pt\">\n",
    "    In <b>figuur 3</b> zien we de gemiddelde oppervlakte in vierkante meters van de woning per gemeente weergegeven,\n",
    "waar met behulp van de slider naar elk jaar gekeken kan worden, alsook naar de ontwikkeling tussen de jaren.\n",
    "In deze figuur is een duidelijk verschil te zien tussen de Randstad en de andere provincies, de Randstad laat een duidelijke dip zien in het gemiddelde oppervlakte per woning in deze regio.\n",
    "Noord-Holland, Zuid-Holland en Utrecht zijn de drie provincies met het laagste gemiddelde aantal vierkante meter per woning.\n",
    "<br>   \n",
    "Als er van 2012 tot 2021 gekeken wordt, zien we dat dit de laatste tien jaar zo is geweest en dus redelijk stabiel is.\n",
    "Het gemiddelde van Noord- en Zuid-Holland is vaak ruim 20 m2 minder dan die van de rest. \n",
    "</p>\n",
    "    \n",
    "<p style=\"font-family: calibri; font-size:14pt\">        \n",
    "In de eerdere visualisaties was te zien dat er een hogere vraag is naar huizen en er per woning een hogere prijs betaald wordt. Als we dit combineren met <i>figuur 3</i> blijkt dat er, ondanks een lager woonoppervlak, nog steeds meer voor betaald wordt in de Randstad. Hierover in <i>figuur 4</i> meer.\n",
    "</p>"
   ]
  },
  {
   "cell_type": "code",
   "execution_count": null,
   "id": "1a5de51a",
   "metadata": {
    "scrolled": true
   },
   "outputs": [],
   "source": [
    "# Voorbereiding CBS landkaarten\n",
    "\n",
    "CBSgemPrijs_1 = dataset\n",
    "CBSgemPrijs_1 = CBSgemPrijs_1.loc[CBSgemPrijs_1['Jaar'].isin(jaren2)]\n",
    "\n",
    "# Voegt de gemiddelde prijs per m2 toe\n",
    "CBSgemPrijs_1.loc[CBSgemPrijs_1['Jaar'].isin(jaren2),['Gemiddelde prijs per m2']] = (CBSgemPrijs_1['Gemiddelde Verkoopprijs']/CBSgemPrijs_1['Gemiddelde oppervlakte (m2)'])\n",
    "\n",
    "# Lijst met de toename in prijs per m2 tussen 2012 en 2021, per provincie\n",
    "PrijsPerM2 = [100*int(CBSgemPrijs_1.loc[(CBSgemPrijs_1['Provincie'] == x) & (CBSgemPrijs_1['Jaar'] == '2021')]['Gemiddelde prijs per m2'])/int(CBSgemPrijs_1.loc[(CBSgemPrijs_1['Provincie'] == x) & (CBSgemPrijs_1['Jaar'] == '2012')]['Gemiddelde prijs per m2']) for x in Provincienamen]\n",
    "\n",
    "# Voeg verandering van de Prijs per m2 tov 2012 toe aan nieuw dataframe met alleen 2021 erin\n",
    "CBS_verandering_PrijsperM2_2012_2021 = CBSgemPrijs_1.loc[CBSgemPrijs_1['Jaar'] == '2021']\n",
    "CBS_verandering_PrijsperM2_2012_2021['Verschil in prijs/m2'] = PrijsPerM2\n",
    "\n",
    "# verander de dtype van geometry zodat deze kan worden gebruikt en creeer een geodataframe\n",
    "CBS_verandering_PrijsperM2_2012_2021['geometry'] = gpd.GeoSeries.from_wkt(CBS_verandering_PrijsperM2_2012_2021['geometry'])\n",
    "geo_df = gpd.GeoDataFrame(CBS_verandering_PrijsperM2_2012_2021, geometry='geometry')"
   ]
  },
  {
   "cell_type": "code",
   "execution_count": null,
   "id": "c9803be0",
   "metadata": {},
   "outputs": [],
   "source": [
    "# Figuur 4\n",
    "fig = plt.figure(figsize = (18,8))\n",
    "\n",
    "# Figuur 4a\n",
    "# CBS landkaart: Gemiddelde Verkoopprijs per m2 in 2021 (€)\n",
    "ax1 = fig.add_subplot(121)\n",
    "p = geo_df.plot(column='Gemiddelde prijs per m2', legend=True, ax=ax1)\n",
    "p.axis('off')\n",
    "p.set_title(\"Figuur 4a: Gemiddelde prijs per m2 in 2021 (in €)\")\n",
    "\n",
    "# Figuur 4b\n",
    "# CBS landkaart: Gemiddelde Stijging verkoopprijs per m2 in 2021 tov 2012 (%)\n",
    "ax2 = fig.add_subplot(122)\n",
    "q = geo_df.plot(column='Verschil in prijs/m2', figsize = (5,4), legend=True, ax=ax2)\n",
    "q.axis('off')\n",
    "q.set_title(\"Figuur 4b: Stijging van de prijs per m2 in 2021 t.o.v. 2012 (in %)\")\n"
   ]
  },
  {
   "cell_type": "markdown",
   "id": "bd0ca40a",
   "metadata": {},
   "source": [
    "<p style=\"font-family: calibri; font-size:14pt\">    \n",
    "In <b>figuur 4a</b> is een overzicht van de gemiddelde prijs per vierkante meter per provincie in kaart gebracht. De data van deze kaart is gebaseerd op de meest recente cijfers uit 2021. Hierin is goed te zien dat een woning in Noord-Holland per vierkante meter flink duurder is dan de een woning in elke andere provincie. Noord-Holland wordt in deze ranglijst gevolgd door Utrecht en Zuid-Holland op respectievelijk de tweede en derde plaats. Verder liggen de prijzen in Gelderland, Flevoland en Noord-Brabant zo'n €500 tot €1000 per vierkante meter hoger dan in de overige, vanaf de Randstad bekeken verder gelegen, provincies.\n",
    "    Hoewel het niet in de kaart van 2021 in <i>figuur 4a</i> naar voren komt, is er een zeer grote gelijkenis te zien in de verdeling van de verschillende kleuren voor alle 10 de jaren die in de dataset waren opgenomen (van 2012 tot en met 2021). In elke provincie leek de prijs nagenoeg gelijk toe te nemen waardoor de verdeling van kleuren hetzelfde oogde.<br>\n",
    "    We hadden deze landkaart graag interactief gekregen, om het voor de kijker mogelijk te maken de verschillende jaren te kunnen bekijken en onderling te vergelijken om zo tot dezelfde conclusie te komen. Helaas is dit ons niet gelukt. Daarom hebben we gekozen om de verandering in de verkoopprijs tussen 2012 en 2021 op een andere manier uit te werken, zoals te zien in <i>figuur 4b</i>. <br><br>\n",
    "    Het percentage waarop in <b>figuur 4b</b> de kleurverdeling is afgestemd is de relatieve prijsstijging van de prijs voor een vierkante meter woonoppervlak van nu, ten opzichte van 2012. Hier is bijvoorbeeld te zien dat deze prijs in Friesland (Fryslân in de dataset) en Zeeland nu zo'n 55% hoger ligt dan destijds, terwijl de prijs in Flevoland (ook redelijk betaalbaar zoals te zien in figuur 4a) met 85% is toegenomen. Naast Flevoland blinkt Groningen in deze kaart ook redelijk uit, met een relatief hoge stijging van 75%. Voor beide provincies was deze ontwikkeling in de prijs per vierkante meter nog niet zo duidelijk naar voren gekomen uit de voorgaande figuren.<br>\n",
    "    Uit zowel <i>figuur 4a</i> als <i>figuur 4b</i> komt duidelijk naar voren dat de Randstad nog steeds erg populair is, zowel in absolute cijfers (<i>figuur 4a</i>) als relatief bekeken: de prijsstijging per vierkante meter is ten opzichte van tien jaar geleden in de Randstad het sterkst toegenomen, met als enige echt serieuze concurrent de provincie Flevoland(<i>figuur 4b</i>). Wel is hier duidelijk te zien dat ook Groningen in de afgelopen tien jaar steeds meer in trek is.\n",
    "</p>"
   ]
  },
  {
   "cell_type": "markdown",
   "id": "3cd071e6",
   "metadata": {},
   "source": [
    "<h1 style=\"font-family: Calibri\">Conclusie</h1>"
   ]
  },
  {
   "cell_type": "markdown",
   "id": "7f708959",
   "metadata": {},
   "source": [
    "<p style=\"font-family: calibri; font-size:14pt\">    \n",
    "In dit onderzoek naar Randstad versus de overige Nederlandse provincies is gekeken naar de vraag: 'Heeft de Randstad zijn beste tijd gehad en zijn de overige regio's in opkomst?'.\n",
    "Uit de weergegeven data zijn een aantal inzichten naar voren gekomen over de stand van de Nederlandse huizenmarkt als geheel, voor de verschillende provincies individueel en ook gegroepeerd in de regio's Randstad en niet-Randstad.\n",
    "</p>\n",
    "<p style=\"font-family: calibri; font-size:14pt\">    \n",
    "In de Randstad worden gemiddeld drie keer zoveel woningen verkocht als buiten deze regio, wat laat zien dat meer mensen daar willen en gaan wonen dan buiten de Randstad. \n",
    "Daarnaast blijkt dat de prijs die men bereid is te betalen voor een woning binnen de Randstad veel hoger ligt dan de prijzen voor kwalitatief vergelijkbare woningen buiten de Randstad. Hierbij komt ook nog bij dat het gemiddelde woonoppervlak van een verkochte woning in de Randstad aanzienlijk kleiner is dan die van een gemiddelde woning buiten de regeio. <br>\n",
    "Meer mensen verhuizen dus naar de Randstad, voor een steeds hogere prijs en een kleiner woonoppervlak. Dit hebben wij in <i>figuur 4b</i> tot in het extreme weergegeven door de gemiddelde prijsstijging per vierkante meter voor elke provincie procentueel weer te geven.\n",
    "    Hieruit valt op te maken dat men nog steeds meer geld over heeft om kleiner te wonen binnen de Randstad. Dit laat zien dat de Randstad zijn beste tijd nog niet heeft gehad. Elke provincie laat echter een stijgende woningprijs zien ten opzichte van het verleden, waardoor wij ons afvragen hoe de prijsontwikkelingen van Nederland zich verhouden tot de andere landen binnen de Europese Unie. Wellicht een leuk vervolgonderzoek.\n",
    "</p>"
   ]
  },
  {
   "cell_type": "markdown",
   "id": "e81cbfef",
   "metadata": {},
   "source": [
    "<h3>Bronvermelding</h3>\n",
    "\n",
    "<p style=\"font-family: calibri; font-size:14pt\">    \n",
    "Voor het opstellen van deze data story is gebruikgemaakt van drie individuele datasets:\n",
    "    <ul>\n",
    "        <li>\n",
    "            <a href=\"https://opendata.cbs.nl/statline/portal.html?_la=nl&_catalog=CBS&tableId=81885ENG&_theme=380\"> Aangeleverde dataset: CBS House Price Index (omschrijving)</a>\n",
    "        </li>\n",
    "        <li>\n",
    "            <a href=\"https://opendata.cbs.nl/statline/portal.html?_la=nl&_catalog=CBS&tableId=83625NED&_theme=380\"> CBS dataset 1: gemiddelde verkoopprijzen (omschrijving)</a>\n",
    "        </li>\n",
    "        <li>\n",
    "            <a href=\"https://opendata.cbs.nl/statline/portal.html?_la=nl&_catalog=CBS&tableId=82550NED&_theme=380\"> CBS dataset 2: gemiddeld oppervlak (omschrijving)</a>\n",
    "        </li>\n",
    "    </ul>\n",
    "</p>\n",
    "<p style=\"font-family: calibri; font-size:14pt\">  \n",
    "De exacte datasets en de Jupyter Notebook om de datasets te combineren kunnen worden gedownload via <a href=\"https://stack.simonvanderknaap.nl/s/InfoVis2022\">deze link</a>.\n",
    "\n",
    "</p>"
   ]
  }
 ],
 "metadata": {
  "hide_input": false,
  "kernelspec": {
   "display_name": "Python 3 (ipykernel)",
   "language": "python",
   "name": "python3"
  },
  "language_info": {
   "codemirror_mode": {
    "name": "ipython",
    "version": 3
   },
   "file_extension": ".py",
   "mimetype": "text/x-python",
   "name": "python",
   "nbconvert_exporter": "python",
   "pygments_lexer": "ipython3",
   "version": "3.11.0"
  }
 },
 "nbformat": 4,
 "nbformat_minor": 5
}
